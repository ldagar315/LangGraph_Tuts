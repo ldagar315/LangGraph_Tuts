{
 "cells": [
  {
   "cell_type": "code",
   "execution_count": 1,
   "metadata": {},
   "outputs": [
    {
     "name": "stdout",
     "output_type": "stream",
     "text": [
      "Note: you may need to restart the kernel to use updated packages.\n"
     ]
    }
   ],
   "source": [
    "%pip install langgraph -q "
   ]
  },
  {
   "cell_type": "code",
   "execution_count": 3,
   "metadata": {},
   "outputs": [
    {
     "name": "stdout",
     "output_type": "stream",
     "text": [
      "Note: you may need to restart the kernel to use updated packages.\n"
     ]
    }
   ],
   "source": [
    "%pip install langchain-groq -q "
   ]
  },
  {
   "cell_type": "code",
   "execution_count": 34,
   "metadata": {},
   "outputs": [],
   "source": [
    "import getpass\n",
    "import os\n",
    "\n",
    "\n",
    "\n",
    "os.environ[\"GROQ_API_KEY\"] = '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'"
   ]
  },
  {
   "cell_type": "code",
   "execution_count": 2,
   "metadata": {},
   "outputs": [],
   "source": [
    "from typing import TypedDict\n",
    "from typing import Literal\n",
    "from langgraph.graph import StateGraph, START, END\n"
   ]
  },
  {
   "cell_type": "code",
   "execution_count": 3,
   "metadata": {},
   "outputs": [],
   "source": [
    "class EmailState(TypedDict):\n",
    "    email: dict\n",
    "    body: str\n",
    "    isSpam: bool\n",
    "    reply: str\n"
   ]
  },
  {
   "cell_type": "code",
   "execution_count": 35,
   "metadata": {},
   "outputs": [],
   "source": [
    "from langchain_groq import ChatGroq\n",
    "llm = ChatGroq(model=\"llama-3.3-70b-versatile\")"
   ]
  },
  {
   "cell_type": "code",
   "execution_count": 36,
   "metadata": {},
   "outputs": [
    {
     "data": {
      "text/plain": [
       "AIMessage(content='The capital of India is New Delhi.', additional_kwargs={}, response_metadata={'token_usage': {'completion_tokens': 9, 'prompt_tokens': 42, 'total_tokens': 51, 'completion_time': 0.032727273, 'prompt_time': 0.003252344, 'queue_time': 0.054129117000000004, 'total_time': 0.035979617}, 'model_name': 'llama-3.3-70b-versatile', 'system_fingerprint': 'fp_41c250edc7', 'finish_reason': 'stop', 'logprobs': None}, id='run-88eed859-5704-4968-8f30-b547cdc5ff97-0', usage_metadata={'input_tokens': 42, 'output_tokens': 9, 'total_tokens': 51})"
      ]
     },
     "execution_count": 36,
     "metadata": {},
     "output_type": "execute_result"
    }
   ],
   "source": [
    "llm.invoke(\"What is the capital of India ?\")"
   ]
  },
  {
   "cell_type": "code",
   "execution_count": 45,
   "metadata": {},
   "outputs": [],
   "source": [
    "def email_stripper(state: EmailState):\n",
    "    print(\"\\nStripping the email body \\n\")\n",
    "    email = state[\"email\"]\n",
    "    prompt = f\"\"\" For the given email seperate out the body of the email, output only the body of the email.\n",
    "                email = {email}\"\"\"\n",
    "    body = llm.invoke(prompt)\n",
    "    EmailState.body = body.content\n",
    "    print(f\"\\nEmail body stripped: {EmailState.body}\\n\")\n",
    "\n",
    "def spam_filter(state: EmailState):\n",
    "    print(\"\\nClassifying the email as spam or not spam \\n\")\n",
    "    email_body = EmailState.body\n",
    "    prompt = f\"\"\"For the given email you have to classify if this email is spam or not, Output only spam or not spam\n",
    "                email = {email_body}\"\"\"\n",
    "    isSpam = llm.invoke(prompt)\n",
    "    if isSpam.content.lower() == \"spam\":\n",
    "        EmailState.isSpam = True\n",
    "    else:\n",
    "        EmailState.isSpam = False\n",
    "    print(f\"\\nEmail classified as: {EmailState.isSpam}\\n\")\n",
    "\n",
    "def email_router(state: EmailState):\n",
    "    if EmailState.isSpam:\n",
    "        return \"spam\"\n",
    "    else:\n",
    "        return \"not spam\"\n",
    "\n",
    "def email_reply(state: EmailState):\n",
    "    print(\"\\nGenerating the reply to the email \\n\")\n",
    "    email_body = EmailState.body\n",
    "    prompt = f\"\"\"You are a helpful assistant, you have to reply to the given email.\n",
    "                body = {EmailState.body}\"\"\"\n",
    "    reply = llm.invoke(prompt)\n",
    "    EmailState.reply = reply.content\n",
    "    print(f\"\\nReply generated: {EmailState.reply}\\n\")\n",
    "\n",
    "graph_builder = StateGraph(EmailState)\n",
    "\n",
    "graph_builder.add_node(\"email_stripper\", email_stripper)\n",
    "graph_builder.add_node(\"spam_filter\", spam_filter)\n",
    "graph_builder.add_node(\"email_reply\", email_reply)\n",
    "\n",
    "graph_builder.add_edge(START, \"email_stripper\")\n",
    "graph_builder.add_conditional_edges(\"spam_filter\", email_router, {\n",
    "    \"not spam\": \"email_reply\",\n",
    "    \"spam\": END\n",
    "})\n",
    "graph_builder.add_edge(\"email_stripper\", \"spam_filter\")\n",
    "graph_builder.add_edge(\"email_reply\", END)\n",
    "\n",
    "graph = graph_builder.compile()"
   ]
  },
  {
   "cell_type": "code",
   "execution_count": 40,
   "metadata": {},
   "outputs": [
    {
     "data": {
      "image/png": "[encoded data removed]",
      "text/plain": [
       "<IPython.core.display.Image object>"
      ]
     },
     "metadata": {},
     "output_type": "display_data"
    }
   ],
   "source": [
    "from IPython.display import Image, display\n",
    "\n",
    "display(Image(graph.get_graph().draw_mermaid_png()))"
   ]
  },
  {
   "cell_type": "code",
   "execution_count": 46,
   "metadata": {},
   "outputs": [
    {
     "name": "stdout",
     "output_type": "stream",
     "text": [
      "\n",
      "Stripping the email body \n",
      "\n",
      "\n",
      "Email body stripped: CONGRATULATIONS! You have been selected as the winner of our international lottery! To claim your $5,000,000 prize, please send us your bank details and a processing fee of $100.\n",
      "\n",
      "\n",
      "Classifying the email as spam or not spam \n",
      "\n",
      "\n",
      "Email classified as: True\n",
      "\n",
      "{'email': {'sender': 'winner@lottery-intl.com', 'subject': 'YOU HAVE WON $5,000,000!!!', 'body': 'CONGRATULATIONS! You have been selected as the winner of our international lottery! To claim your $5,000,000 prize, please send us your bank details and a processing fee of $100.'}, 'body': None, 'isSpam': False, 'reply': None}\n"
     ]
    }
   ],
   "source": [
    "legitimate_email = {\n",
    "    \"sender\": \"john.smith@example.com\",\n",
    "    \"subject\": \"Question about your services\",\n",
    "    \"body\": \"Dear Mr. Hugg, I was referred to you by a colleague and I'm interested in learning more about your consulting services. Could we schedule a call next week? Best regards, John Smith\"\n",
    "}\n",
    "spam_email = {\n",
    "    \"sender\": \"winner@lottery-intl.com\",\n",
    "    \"subject\": \"YOU HAVE WON $5,000,000!!!\",\n",
    "    \"body\": \"CONGRATULATIONS! You have been selected as the winner of our international lottery! To claim your $5,000,000 prize, please send us your bank details and a processing fee of $100.\"\n",
    "}\n",
    "compiled_input = {\n",
    "    \"email\": spam_email,\n",
    "    \"body\" : None, \n",
    "    \"isSpam\" : False,\n",
    "    \"reply\" : None\n",
    "}\n",
    "result = graph.invoke(compiled_input)\n",
    "print(result)"
   ]
  },
  {
   "cell_type": "code",
   "execution_count": null,
   "metadata": {},
   "outputs": [],
   "source": []
  }
 ],
 "metadata": {
  "kernelspec": {
   "display_name": "Python 3",
   "language": "python",
   "name": "python3"
  },
  "language_info": {
   "codemirror_mode": {
    "name": "ipython",
    "version": 3
   },
   "file_extension": ".py",
   "mimetype": "text/x-python",
   "name": "python",
   "nbconvert_exporter": "python",
   "pygments_lexer": "ipython3",
   "version": "3.11.4"
  }
 },
 "nbformat": 4,
 "nbformat_minor": 2
}
